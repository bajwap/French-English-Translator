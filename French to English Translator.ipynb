{
 "cells": [
  {
   "cell_type": "markdown",
   "metadata": {},
   "source": [
    "## Language Translator"
   ]
  },
  {
   "cell_type": "code",
   "execution_count": 1,
   "metadata": {},
   "outputs": [],
   "source": [
    "import nltk\n",
    "import pandas as pd\n",
    "import numpy as np\n",
    "import re\n",
    "from collections import Counter\n",
    "import pickle\n",
    "from nltk.corpus import comtrans"
   ]
  },
  {
   "cell_type": "code",
   "execution_count": 2,
   "metadata": {},
   "outputs": [],
   "source": [
    "import string\n",
    "import re\n",
    "from numpy import array, argmax, random, take\n",
    "import pandas as pd\n",
    "from tensorflow.python.keras.models import Sequential\n",
    "from tensorflow.python.keras.layers import Dense, Dropout, LSTM, Embedding, Bidirectional, RepeatVector, TimeDistributed\n",
    "from tensorflow.python.keras.preprocessing.text import Tokenizer\n",
    "from tensorflow.python.keras.callbacks import ModelCheckpoint\n",
    "from tensorflow.python.keras.preprocessing.sequence import pad_sequences\n",
    "from tensorflow.python.keras.utils import np_utils\n",
    "from tensorflow.python.keras.models import load_model\n",
    "from tensorflow.python.keras import optimizers\n",
    "from sklearn.model_selection import train_test_split\n",
    "import matplotlib.pyplot as plt\n",
    "%matplotlib inline\n",
    "pd.set_option('display.max_colwidth', 200)"
   ]
  },
  {
   "cell_type": "markdown",
   "metadata": {},
   "source": [
    "From `nltk` we can download translated sentences between different languages. You can see the example between **English and French** below but feel free to try different combination as well."
   ]
  },
  {
   "cell_type": "code",
   "execution_count": 3,
   "metadata": {},
   "outputs": [],
   "source": [
    "# function to read raw text file\n",
    "def read_text(filename):\n",
    "    # open the file\n",
    "    file = open(filename, mode='rt', encoding='utf-8')\n",
    "    # read all text\n",
    "    text = file.read()\n",
    "    file.close()\n",
    "    return text"
   ]
  },
  {
   "cell_type": "code",
   "execution_count": 4,
   "metadata": {},
   "outputs": [],
   "source": [
    "# split a text into sentences\n",
    "def to_lines(text):\n",
    "    sents = text.strip().split('\\n')\n",
    "    sents = [i.split('\\t') for i in sents]\n",
    "    return sents"
   ]
  },
  {
   "cell_type": "code",
   "execution_count": 5,
   "metadata": {},
   "outputs": [],
   "source": [
    "data = read_text(\"fra.txt\")\n",
    "fra_eng = to_lines(data)\n",
    "fra_eng = array(fra_eng)"
   ]
  },
  {
   "cell_type": "code",
   "execution_count": 6,
   "metadata": {},
   "outputs": [],
   "source": [
    "fra_eng = fra_eng[:60000,:2]"
   ]
  },
  {
   "cell_type": "code",
   "execution_count": 7,
   "metadata": {},
   "outputs": [
    {
     "data": {
      "text/plain": [
       "array([['Go.', 'Va !'],\n",
       "       ['Go.', 'Marche.'],\n",
       "       ['Go.', 'Bouge !'],\n",
       "       ...,\n",
       "       ['I do that for the money.', \"Je fais ça pour l'argent.\"],\n",
       "       ['I do think I understand.',\n",
       "        'Je pense vraiment que je comprends.'],\n",
       "       [\"I don't agree with this.\", \"Je ne suis pas d'accord avec ça.\"]],\n",
       "      dtype='<U325')"
      ]
     },
     "execution_count": 7,
     "metadata": {},
     "output_type": "execute_result"
    }
   ],
   "source": [
    "fra_eng"
   ]
  },
  {
   "cell_type": "markdown",
   "metadata": {},
   "source": [
    "### 1. Tokenize and Clean Text"
   ]
  },
  {
   "cell_type": "code",
   "execution_count": 8,
   "metadata": {},
   "outputs": [],
   "source": [
    "# Remove punctuation\n",
    "fra_eng[:,0] = [s.translate(str.maketrans('', '', string.punctuation)) for s in fra_eng[:,0]]\n",
    "fra_eng[:,1] = [s.translate(str.maketrans('', '', string.punctuation)) for s in fra_eng[:,1]]"
   ]
  },
  {
   "cell_type": "code",
   "execution_count": 9,
   "metadata": {},
   "outputs": [],
   "source": [
    "# convert to lowercase\n",
    "for i in range(len(fra_eng)):\n",
    "    fra_eng[i,0] = fra_eng[i,0].lower()\n",
    "    \n",
    "    fra_eng[i,1] = fra_eng[i,1].lower()"
   ]
  },
  {
   "cell_type": "code",
   "execution_count": 10,
   "metadata": {},
   "outputs": [
    {
     "data": {
      "text/plain": [
       "array([['go', 'va '],\n",
       "       ['go', 'marche'],\n",
       "       ['go', 'bouge '],\n",
       "       ...,\n",
       "       ['i do that for the money', 'je fais ça pour largent'],\n",
       "       ['i do think i understand', 'je pense vraiment que je comprends'],\n",
       "       ['i dont agree with this', 'je ne suis pas daccord avec ça']],\n",
       "      dtype='<U325')"
      ]
     },
     "execution_count": 10,
     "metadata": {},
     "output_type": "execute_result"
    }
   ],
   "source": [
    "fra_eng"
   ]
  },
  {
   "cell_type": "code",
   "execution_count": 11,
   "metadata": {},
   "outputs": [
    {
     "data": {
      "text/html": [
       "<div>\n",
       "<style scoped>\n",
       "    .dataframe tbody tr th:only-of-type {\n",
       "        vertical-align: middle;\n",
       "    }\n",
       "\n",
       "    .dataframe tbody tr th {\n",
       "        vertical-align: top;\n",
       "    }\n",
       "\n",
       "    .dataframe thead th {\n",
       "        text-align: right;\n",
       "    }\n",
       "</style>\n",
       "<table border=\"1\" class=\"dataframe\">\n",
       "  <thead>\n",
       "    <tr style=\"text-align: right;\">\n",
       "      <th></th>\n",
       "      <th>english</th>\n",
       "      <th>french</th>\n",
       "    </tr>\n",
       "  </thead>\n",
       "  <tbody>\n",
       "    <tr>\n",
       "      <th>0</th>\n",
       "      <td>go</td>\n",
       "      <td>va</td>\n",
       "    </tr>\n",
       "    <tr>\n",
       "      <th>1</th>\n",
       "      <td>go</td>\n",
       "      <td>marche</td>\n",
       "    </tr>\n",
       "    <tr>\n",
       "      <th>2</th>\n",
       "      <td>go</td>\n",
       "      <td>bouge</td>\n",
       "    </tr>\n",
       "    <tr>\n",
       "      <th>3</th>\n",
       "      <td>hi</td>\n",
       "      <td>salut</td>\n",
       "    </tr>\n",
       "    <tr>\n",
       "      <th>4</th>\n",
       "      <td>hi</td>\n",
       "      <td>salut</td>\n",
       "    </tr>\n",
       "    <tr>\n",
       "      <th>5</th>\n",
       "      <td>run</td>\n",
       "      <td>cours</td>\n",
       "    </tr>\n",
       "    <tr>\n",
       "      <th>6</th>\n",
       "      <td>run</td>\n",
       "      <td>courez</td>\n",
       "    </tr>\n",
       "    <tr>\n",
       "      <th>7</th>\n",
       "      <td>run</td>\n",
       "      <td>prenez vos jambes à vos cous</td>\n",
       "    </tr>\n",
       "    <tr>\n",
       "      <th>8</th>\n",
       "      <td>run</td>\n",
       "      <td>file</td>\n",
       "    </tr>\n",
       "    <tr>\n",
       "      <th>9</th>\n",
       "      <td>run</td>\n",
       "      <td>filez</td>\n",
       "    </tr>\n",
       "    <tr>\n",
       "      <th>10</th>\n",
       "      <td>run</td>\n",
       "      <td>cours</td>\n",
       "    </tr>\n",
       "    <tr>\n",
       "      <th>11</th>\n",
       "      <td>run</td>\n",
       "      <td>fuyez</td>\n",
       "    </tr>\n",
       "    <tr>\n",
       "      <th>12</th>\n",
       "      <td>run</td>\n",
       "      <td>fuyons</td>\n",
       "    </tr>\n",
       "    <tr>\n",
       "      <th>13</th>\n",
       "      <td>run</td>\n",
       "      <td>cours</td>\n",
       "    </tr>\n",
       "    <tr>\n",
       "      <th>14</th>\n",
       "      <td>run</td>\n",
       "      <td>courez</td>\n",
       "    </tr>\n",
       "    <tr>\n",
       "      <th>15</th>\n",
       "      <td>run</td>\n",
       "      <td>prenez vos jambes à vos cous</td>\n",
       "    </tr>\n",
       "    <tr>\n",
       "      <th>16</th>\n",
       "      <td>run</td>\n",
       "      <td>file</td>\n",
       "    </tr>\n",
       "    <tr>\n",
       "      <th>17</th>\n",
       "      <td>run</td>\n",
       "      <td>filez</td>\n",
       "    </tr>\n",
       "    <tr>\n",
       "      <th>18</th>\n",
       "      <td>run</td>\n",
       "      <td>cours</td>\n",
       "    </tr>\n",
       "    <tr>\n",
       "      <th>19</th>\n",
       "      <td>run</td>\n",
       "      <td>fuyez</td>\n",
       "    </tr>\n",
       "  </tbody>\n",
       "</table>\n",
       "</div>"
      ],
      "text/plain": [
       "   english                         french\n",
       "0       go                            va \n",
       "1       go                         marche\n",
       "2       go                         bouge \n",
       "3       hi                         salut \n",
       "4       hi                          salut\n",
       "5      run                         cours \n",
       "6      run                        courez \n",
       "7      run  prenez vos jambes à vos cous \n",
       "8      run                          file \n",
       "9      run                         filez \n",
       "10     run                         cours \n",
       "11     run                         fuyez \n",
       "12     run                        fuyons \n",
       "13     run                         cours \n",
       "14     run                        courez \n",
       "15     run  prenez vos jambes à vos cous \n",
       "16     run                          file \n",
       "17     run                         filez \n",
       "18     run                         cours \n",
       "19     run                         fuyez "
      ]
     },
     "execution_count": 11,
     "metadata": {},
     "output_type": "execute_result"
    }
   ],
   "source": [
    "df = pd.DataFrame([fra_eng[:,0], fra_eng[:,1]]).T\n",
    "df.columns=['english', 'french']\n",
    "df.head(20)"
   ]
  },
  {
   "cell_type": "markdown",
   "metadata": {},
   "source": [
    "### 2. Convert text to numerical format (Embedding)"
   ]
  },
  {
   "cell_type": "code",
   "execution_count": 12,
   "metadata": {},
   "outputs": [
    {
     "data": {
      "text/plain": [
       "array([['go', 'va '],\n",
       "       ['go', 'marche'],\n",
       "       ['go', 'bouge '],\n",
       "       ...,\n",
       "       ['i do that for the money', 'je fais ça pour largent'],\n",
       "       ['i do think i understand', 'je pense vraiment que je comprends'],\n",
       "       ['i dont agree with this', 'je ne suis pas daccord avec ça']],\n",
       "      dtype=object)"
      ]
     },
     "execution_count": 12,
     "metadata": {},
     "output_type": "execute_result"
    }
   ],
   "source": [
    "arr = df.to_numpy()\n",
    "arr"
   ]
  },
  {
   "cell_type": "code",
   "execution_count": 13,
   "metadata": {},
   "outputs": [
    {
     "data": {
      "text/plain": [
       "numpy.ndarray"
      ]
     },
     "execution_count": 13,
     "metadata": {},
     "output_type": "execute_result"
    }
   ],
   "source": [
    "type(arr)"
   ]
  },
  {
   "cell_type": "code",
   "execution_count": 14,
   "metadata": {},
   "outputs": [
    {
     "data": {
      "text/plain": [
       "(60000, 2)"
      ]
     },
     "execution_count": 14,
     "metadata": {},
     "output_type": "execute_result"
    }
   ],
   "source": [
    "arr.shape"
   ]
  },
  {
   "cell_type": "code",
   "execution_count": 15,
   "metadata": {},
   "outputs": [],
   "source": [
    "en_sent = arr[:,0]\n",
    "fr_sent = arr[:,1]"
   ]
  },
  {
   "cell_type": "code",
   "execution_count": 16,
   "metadata": {},
   "outputs": [
    {
     "data": {
      "text/plain": [
       "'go'"
      ]
     },
     "execution_count": 16,
     "metadata": {},
     "output_type": "execute_result"
    }
   ],
   "source": [
    "en_sent[0]"
   ]
  },
  {
   "cell_type": "code",
   "execution_count": 17,
   "metadata": {},
   "outputs": [],
   "source": [
    "# limit sentences upto 8 words\n",
    "def filter_sentence_length(sentences_l1, sentences_l2, min_len=0, max_len=8):\n",
    "    filtered_sentences_l1 = []\n",
    "    filtered_sentences_l2 = []\n",
    "    for i in range(len(sentences_l1)):\n",
    "        s_l1 = sentences_l1[i].split()\n",
    "        s_l2 = sentences_l2[i].split()\n",
    "        if (min_len <= len(s_l1) <= max_len) and (min_len <= len(s_l2) <= max_len):\n",
    "            filtered_sentences_l1.append(sentences_l1[i])\n",
    "            filtered_sentences_l2.append(sentences_l2[i])\n",
    "    return filtered_sentences_l1, filtered_sentences_l2"
   ]
  },
  {
   "cell_type": "code",
   "execution_count": 18,
   "metadata": {},
   "outputs": [
    {
     "name": "stdout",
     "output_type": "stream",
     "text": [
      "Total number of sentences\n",
      "59761\n"
     ]
    }
   ],
   "source": [
    "# new sentence lists limited to 8 words\n",
    "en_sent_lst, fr_sent_lst = filter_sentence_length(en_sent, fr_sent)\n",
    "print('Total number of sentences')\n",
    "print(len(en_sent_lst))\n",
    "assert len(en_sent_lst) == len(fr_sent_lst)"
   ]
  },
  {
   "cell_type": "code",
   "execution_count": 19,
   "metadata": {},
   "outputs": [],
   "source": [
    "en_fr_df = pd.DataFrame([en_sent_lst, fr_sent_lst]).T"
   ]
  },
  {
   "cell_type": "code",
   "execution_count": 20,
   "metadata": {},
   "outputs": [
    {
     "data": {
      "text/html": [
       "<div>\n",
       "<style scoped>\n",
       "    .dataframe tbody tr th:only-of-type {\n",
       "        vertical-align: middle;\n",
       "    }\n",
       "\n",
       "    .dataframe tbody tr th {\n",
       "        vertical-align: top;\n",
       "    }\n",
       "\n",
       "    .dataframe thead th {\n",
       "        text-align: right;\n",
       "    }\n",
       "</style>\n",
       "<table border=\"1\" class=\"dataframe\">\n",
       "  <thead>\n",
       "    <tr style=\"text-align: right;\">\n",
       "      <th></th>\n",
       "      <th>English</th>\n",
       "      <th>French</th>\n",
       "    </tr>\n",
       "  </thead>\n",
       "  <tbody>\n",
       "    <tr>\n",
       "      <th>59741</th>\n",
       "      <td>i didnt rescue anybody</td>\n",
       "      <td>je nai sauvé personne</td>\n",
       "    </tr>\n",
       "    <tr>\n",
       "      <th>59742</th>\n",
       "      <td>i didnt say i liked it</td>\n",
       "      <td>je nai pas dit que jaimais ça</td>\n",
       "    </tr>\n",
       "    <tr>\n",
       "      <th>59743</th>\n",
       "      <td>i didnt say i liked it</td>\n",
       "      <td>je nai pas dit que jappréciais ça</td>\n",
       "    </tr>\n",
       "    <tr>\n",
       "      <th>59744</th>\n",
       "      <td>i didnt say i liked it</td>\n",
       "      <td>je nai pas dit que je lappréciais</td>\n",
       "    </tr>\n",
       "    <tr>\n",
       "      <th>59745</th>\n",
       "      <td>i didnt see any tigers</td>\n",
       "      <td>je nai vu aucun tigre</td>\n",
       "    </tr>\n",
       "    <tr>\n",
       "      <th>59746</th>\n",
       "      <td>i didnt see any tigers</td>\n",
       "      <td>je nai pas vu de tigres</td>\n",
       "    </tr>\n",
       "    <tr>\n",
       "      <th>59747</th>\n",
       "      <td>i didnt speak for long</td>\n",
       "      <td>je nai pas parlé longtemps</td>\n",
       "    </tr>\n",
       "    <tr>\n",
       "      <th>59748</th>\n",
       "      <td>i didnt spend anything</td>\n",
       "      <td>je nai rien dépensé</td>\n",
       "    </tr>\n",
       "    <tr>\n",
       "      <th>59749</th>\n",
       "      <td>i didnt touch anything</td>\n",
       "      <td>je nai rien touché</td>\n",
       "    </tr>\n",
       "    <tr>\n",
       "      <th>59750</th>\n",
       "      <td>i didnt work yesterday</td>\n",
       "      <td>je ne travaillais pas hier</td>\n",
       "    </tr>\n",
       "    <tr>\n",
       "      <th>59751</th>\n",
       "      <td>i didnt write anything</td>\n",
       "      <td>je nai rien écrit</td>\n",
       "    </tr>\n",
       "    <tr>\n",
       "      <th>59752</th>\n",
       "      <td>i didnt write anything</td>\n",
       "      <td>je nai pas écrit quoi que ce soit</td>\n",
       "    </tr>\n",
       "    <tr>\n",
       "      <th>59753</th>\n",
       "      <td>i do not like this song</td>\n",
       "      <td>je naime pas cette chanson</td>\n",
       "    </tr>\n",
       "    <tr>\n",
       "      <th>59754</th>\n",
       "      <td>i do not like this song</td>\n",
       "      <td>je napprécie pas cette chanson</td>\n",
       "    </tr>\n",
       "    <tr>\n",
       "      <th>59755</th>\n",
       "      <td>i do not need money now</td>\n",
       "      <td>je nai pas besoin dargent tout de suite</td>\n",
       "    </tr>\n",
       "    <tr>\n",
       "      <th>59756</th>\n",
       "      <td>i do not understand her</td>\n",
       "      <td>je ne la comprends pas</td>\n",
       "    </tr>\n",
       "    <tr>\n",
       "      <th>59757</th>\n",
       "      <td>i do not understand you</td>\n",
       "      <td>je ne vous comprends pas</td>\n",
       "    </tr>\n",
       "    <tr>\n",
       "      <th>59758</th>\n",
       "      <td>i do that for the money</td>\n",
       "      <td>je fais ça pour largent</td>\n",
       "    </tr>\n",
       "    <tr>\n",
       "      <th>59759</th>\n",
       "      <td>i do think i understand</td>\n",
       "      <td>je pense vraiment que je comprends</td>\n",
       "    </tr>\n",
       "    <tr>\n",
       "      <th>59760</th>\n",
       "      <td>i dont agree with this</td>\n",
       "      <td>je ne suis pas daccord avec ça</td>\n",
       "    </tr>\n",
       "  </tbody>\n",
       "</table>\n",
       "</div>"
      ],
      "text/plain": [
       "                       English                                   French\n",
       "59741   i didnt rescue anybody                    je nai sauvé personne\n",
       "59742   i didnt say i liked it            je nai pas dit que jaimais ça\n",
       "59743   i didnt say i liked it        je nai pas dit que jappréciais ça\n",
       "59744   i didnt say i liked it        je nai pas dit que je lappréciais\n",
       "59745   i didnt see any tigers                    je nai vu aucun tigre\n",
       "59746   i didnt see any tigers                  je nai pas vu de tigres\n",
       "59747   i didnt speak for long               je nai pas parlé longtemps\n",
       "59748   i didnt spend anything                      je nai rien dépensé\n",
       "59749   i didnt touch anything                       je nai rien touché\n",
       "59750   i didnt work yesterday               je ne travaillais pas hier\n",
       "59751   i didnt write anything                        je nai rien écrit\n",
       "59752   i didnt write anything        je nai pas écrit quoi que ce soit\n",
       "59753  i do not like this song               je naime pas cette chanson\n",
       "59754  i do not like this song           je napprécie pas cette chanson\n",
       "59755  i do not need money now  je nai pas besoin dargent tout de suite\n",
       "59756  i do not understand her                   je ne la comprends pas\n",
       "59757  i do not understand you                 je ne vous comprends pas\n",
       "59758  i do that for the money                  je fais ça pour largent\n",
       "59759  i do think i understand       je pense vraiment que je comprends\n",
       "59760   i dont agree with this           je ne suis pas daccord avec ça"
      ]
     },
     "execution_count": 20,
     "metadata": {},
     "output_type": "execute_result"
    }
   ],
   "source": [
    "en_fr_df.columns=['English', 'French']\n",
    "en_fr_df.tail(20)"
   ]
  },
  {
   "cell_type": "code",
   "execution_count": 21,
   "metadata": {},
   "outputs": [],
   "source": [
    "en_fr_df = en_fr_df[en_fr_df['English']!='']"
   ]
  },
  {
   "cell_type": "code",
   "execution_count": 22,
   "metadata": {},
   "outputs": [
    {
     "data": {
      "text/html": [
       "<div>\n",
       "<style scoped>\n",
       "    .dataframe tbody tr th:only-of-type {\n",
       "        vertical-align: middle;\n",
       "    }\n",
       "\n",
       "    .dataframe tbody tr th {\n",
       "        vertical-align: top;\n",
       "    }\n",
       "\n",
       "    .dataframe thead th {\n",
       "        text-align: right;\n",
       "    }\n",
       "</style>\n",
       "<table border=\"1\" class=\"dataframe\">\n",
       "  <thead>\n",
       "    <tr style=\"text-align: right;\">\n",
       "      <th></th>\n",
       "      <th>English</th>\n",
       "      <th>French</th>\n",
       "    </tr>\n",
       "  </thead>\n",
       "  <tbody>\n",
       "  </tbody>\n",
       "</table>\n",
       "</div>"
      ],
      "text/plain": [
       "Empty DataFrame\n",
       "Columns: [English, French]\n",
       "Index: []"
      ]
     },
     "execution_count": 22,
     "metadata": {},
     "output_type": "execute_result"
    }
   ],
   "source": [
    "en_fr_df[en_fr_df['French']=='']"
   ]
  },
  {
   "cell_type": "code",
   "execution_count": 23,
   "metadata": {},
   "outputs": [
    {
     "data": {
      "text/plain": [
       "array(['i do not understand you', 'je ne vous comprends pas'],\n",
       "      dtype=object)"
      ]
     },
     "execution_count": 23,
     "metadata": {},
     "output_type": "execute_result"
    }
   ],
   "source": [
    "arr = en_fr_df.to_numpy()\n",
    "arr[-4]"
   ]
  },
  {
   "cell_type": "code",
   "execution_count": 24,
   "metadata": {},
   "outputs": [
    {
     "data": {
      "text/plain": [
       "(59761, 2)"
      ]
     },
     "execution_count": 24,
     "metadata": {},
     "output_type": "execute_result"
    }
   ],
   "source": [
    "arr.shape"
   ]
  },
  {
   "cell_type": "code",
   "execution_count": 25,
   "metadata": {},
   "outputs": [
    {
     "name": "stdout",
     "output_type": "stream",
     "text": [
      "(59761, 8)\n"
     ]
    }
   ],
   "source": [
    "# Embed and pad english sentences\n",
    "maxlen = 8\n",
    "t_en = Tokenizer()\n",
    "t_en.fit_on_texts(arr[:,0]) # .fit (change characters to dictionary with indexes)\n",
    "tokenized_en = t_en.texts_to_sequences(arr[:,0]) # .transform\n",
    "padded_en = pad_sequences(tokenized_en, maxlen=maxlen) # make everything fixed length\n",
    "\n",
    "print(padded_en.shape)"
   ]
  },
  {
   "cell_type": "code",
   "execution_count": 26,
   "metadata": {},
   "outputs": [
    {
     "data": {
      "text/plain": [
       "array([ 0,  0,  0,  0,  0,  0,  0, 30], dtype=int32)"
      ]
     },
     "execution_count": 26,
     "metadata": {},
     "output_type": "execute_result"
    }
   ],
   "source": [
    "padded_en[0]"
   ]
  },
  {
   "cell_type": "code",
   "execution_count": 27,
   "metadata": {},
   "outputs": [
    {
     "name": "stdout",
     "output_type": "stream",
     "text": [
      "(59761, 8)\n"
     ]
    }
   ],
   "source": [
    "# Embed and pad french sentences\n",
    "maxlen = 8\n",
    "t_fr = Tokenizer()\n",
    "t_fr.fit_on_texts(arr[:,1]) # .fit (change characters to dictionary with indexes)\n",
    "tokenized_fr = t_fr.texts_to_sequences(arr[:,1]) # .transform\n",
    "padded_fr = pad_sequences(tokenized_fr, maxlen=maxlen) # make everything fixed length\n",
    "\n",
    "print(padded_fr.shape)"
   ]
  },
  {
   "cell_type": "code",
   "execution_count": null,
   "metadata": {},
   "outputs": [],
   "source": []
  },
  {
   "cell_type": "code",
   "execution_count": 28,
   "metadata": {},
   "outputs": [],
   "source": [
    "#t.word_index"
   ]
  },
  {
   "cell_type": "code",
   "execution_count": 29,
   "metadata": {},
   "outputs": [
    {
     "data": {
      "text/plain": [
       "(59761, 8, 15700)"
      ]
     },
     "execution_count": 29,
     "metadata": {},
     "output_type": "execute_result"
    }
   ],
   "source": [
    "train_X = np_utils.to_categorical(padded_fr) # one hot encoding\n",
    "train_X.shape"
   ]
  },
  {
   "cell_type": "code",
   "execution_count": 30,
   "metadata": {},
   "outputs": [
    {
     "data": {
      "text/plain": [
       "(59761, 8, 6682)"
      ]
     },
     "execution_count": 30,
     "metadata": {},
     "output_type": "execute_result"
    }
   ],
   "source": [
    "train_Y = np_utils.to_categorical(padded_en) # one hot encoding\n",
    "train_Y.shape"
   ]
  },
  {
   "cell_type": "code",
   "execution_count": 31,
   "metadata": {},
   "outputs": [
    {
     "name": "stdout",
     "output_type": "stream",
     "text": [
      "15700 8 8 6682\n"
     ]
    }
   ],
   "source": [
    "print(train_X.shape[2], train_X.shape[1], train_Y.shape[1], train_Y.shape[2])"
   ]
  },
  {
   "cell_type": "code",
   "execution_count": 32,
   "metadata": {},
   "outputs": [],
   "source": [
    "## build model\n",
    "\n",
    "model = Sequential()\n",
    "model.add(Embedding(train_X.shape[2], 512, input_length=train_X.shape[1]))\n",
    "model.add(LSTM(512))\n",
    "#model.add(Dropout(0.2))\n",
    "model.add(RepeatVector(train_Y.shape[1])) # output 8x512\n",
    "model.add(LSTM(512, return_sequences=True)) # input 8x512, output 8x512\n",
    "#model.add(Dropout(0.2))\n",
    "model.add(Dense(train_Y.shape[2], activation='softmax')) # input 8x512, output 8xen_vocab_size\n",
    "\n",
    "model.compile(optimizer='RMSprop', loss='sparse_categorical_crossentropy', metrics=['accuracy'])"
   ]
  },
  {
   "cell_type": "markdown",
   "metadata": {},
   "source": [
    "Please note that we have used ‘sparse_categorical_crossentropy‘ as the loss function. This is because the function allows us to use the target sequence as is, instead of the one-hot encoded format. One-hot encoding the target sequences using such a huge vocabulary might consume our system’s entire memory."
   ]
  },
  {
   "cell_type": "code",
   "execution_count": 33,
   "metadata": {},
   "outputs": [],
   "source": [
    "train_fr, test_fr, train_en, test_en = train_test_split(padded_fr, padded_en, test_size=0.2)"
   ]
  },
  {
   "cell_type": "code",
   "execution_count": 34,
   "metadata": {},
   "outputs": [
    {
     "data": {
      "text/plain": [
       "(47808, 8)"
      ]
     },
     "execution_count": 34,
     "metadata": {},
     "output_type": "execute_result"
    }
   ],
   "source": [
    "train_fr.shape"
   ]
  },
  {
   "cell_type": "code",
   "execution_count": 35,
   "metadata": {},
   "outputs": [
    {
     "data": {
      "text/plain": [
       "(11953, 8)"
      ]
     },
     "execution_count": 35,
     "metadata": {},
     "output_type": "execute_result"
    }
   ],
   "source": [
    "test_fr.shape"
   ]
  },
  {
   "cell_type": "code",
   "execution_count": 36,
   "metadata": {},
   "outputs": [
    {
     "data": {
      "text/plain": [
       "array([[   0,    0,    0, ...,    0,   91,  793],\n",
       "       [   0,    0,   37, ..., 1741,    9,  677],\n",
       "       [   0,    0,    0, ...,  155,    9, 1584],\n",
       "       ...,\n",
       "       [   1,   22,   15, ...,   12,  175,  249],\n",
       "       [   0,    0,    0, ...,   25,  158, 1528],\n",
       "       [   0,    0,    0, ...,    2,   10,  220]], dtype=int32)"
      ]
     },
     "execution_count": 36,
     "metadata": {},
     "output_type": "execute_result"
    }
   ],
   "source": [
    "train_fr"
   ]
  },
  {
   "cell_type": "code",
   "execution_count": 37,
   "metadata": {},
   "outputs": [
    {
     "name": "stdout",
     "output_type": "stream",
     "text": [
      "Epoch 1/20\n",
      "75/75 [==============================] - 258s 3s/step - loss: 4.4356 - accuracy: 0.4877 - val_loss: 3.1960 - val_accuracy: 0.5199\n",
      "Epoch 2/20\n",
      "75/75 [==============================] - 233s 3s/step - loss: 3.1811 - accuracy: 0.5216 - val_loss: 3.0800 - val_accuracy: 0.5235\n",
      "Epoch 3/20\n",
      "75/75 [==============================] - 247s 3s/step - loss: 3.0700 - accuracy: 0.5250 - val_loss: 3.0361 - val_accuracy: 0.5319\n",
      "Epoch 4/20\n",
      "75/75 [==============================] - 231s 3s/step - loss: 2.9664 - accuracy: 0.5317 - val_loss: 2.8874 - val_accuracy: 0.5394\n",
      "Epoch 5/20\n",
      "75/75 [==============================] - 241s 3s/step - loss: 2.8259 - accuracy: 0.5410 - val_loss: 2.7861 - val_accuracy: 0.5440\n",
      "Epoch 6/20\n",
      "75/75 [==============================] - 248s 3s/step - loss: 2.7001 - accuracy: 0.5499 - val_loss: 2.6834 - val_accuracy: 0.5542\n",
      "Epoch 7/20\n",
      "75/75 [==============================] - 226s 3s/step - loss: 2.5576 - accuracy: 0.5627 - val_loss: 2.4949 - val_accuracy: 0.5740\n",
      "Epoch 8/20\n",
      "75/75 [==============================] - 225s 3s/step - loss: 2.3661 - accuracy: 0.5805 - val_loss: 2.3762 - val_accuracy: 0.5886\n",
      "Epoch 9/20\n",
      "75/75 [==============================] - 232s 3s/step - loss: 2.2028 - accuracy: 0.5974 - val_loss: 2.2335 - val_accuracy: 0.6058\n",
      "Epoch 10/20\n",
      "75/75 [==============================] - 234s 3s/step - loss: 2.0428 - accuracy: 0.6171 - val_loss: 2.1499 - val_accuracy: 0.6168\n",
      "Epoch 11/20\n",
      "75/75 [==============================] - 232s 3s/step - loss: 1.8879 - accuracy: 0.6359 - val_loss: 2.0707 - val_accuracy: 0.6247\n",
      "Epoch 12/20\n",
      "75/75 [==============================] - 233s 3s/step - loss: 1.7497 - accuracy: 0.6518 - val_loss: 1.9533 - val_accuracy: 0.6414\n",
      "Epoch 13/20\n",
      "75/75 [==============================] - 233s 3s/step - loss: 1.6222 - accuracy: 0.6703 - val_loss: 1.8661 - val_accuracy: 0.6550\n",
      "Epoch 14/20\n",
      "75/75 [==============================] - 237s 3s/step - loss: 1.5037 - accuracy: 0.6872 - val_loss: 1.8020 - val_accuracy: 0.6667\n",
      "Epoch 15/20\n",
      "75/75 [==============================] - 236s 3s/step - loss: 1.3984 - accuracy: 0.7037 - val_loss: 1.7527 - val_accuracy: 0.6762\n",
      "Epoch 16/20\n",
      "75/75 [==============================] - 234s 3s/step - loss: 1.2884 - accuracy: 0.7221 - val_loss: 1.6854 - val_accuracy: 0.6869\n",
      "Epoch 17/20\n",
      "75/75 [==============================] - 259s 3s/step - loss: 1.1869 - accuracy: 0.7398 - val_loss: 1.6415 - val_accuracy: 0.6949\n",
      "Epoch 18/20\n",
      "75/75 [==============================] - 281s 4s/step - loss: 1.0958 - accuracy: 0.7557 - val_loss: 1.6457 - val_accuracy: 0.6952\n",
      "Epoch 19/20\n",
      "75/75 [==============================] - 247s 3s/step - loss: 1.0172 - accuracy: 0.7718 - val_loss: 1.5750 - val_accuracy: 0.7016\n",
      "Epoch 20/20\n",
      "75/75 [==============================] - 230s 3s/step - loss: 0.9278 - accuracy: 0.7897 - val_loss: 1.5846 - val_accuracy: 0.7107\n"
     ]
    }
   ],
   "source": [
    "history = model.fit(train_fr, train_en.reshape(train_en.shape[0], train_en.shape[1], 1), \n",
    "          epochs=20, batch_size=512, \n",
    "          validation_split = 0.2,\n",
    "          verbose=1)"
   ]
  },
  {
   "cell_type": "code",
   "execution_count": 38,
   "metadata": {},
   "outputs": [
    {
     "data": {
      "image/png": "[encoded data removed]",
      "text/plain": [
       "<Figure size 432x288 with 1 Axes>"
      ]
     },
     "metadata": {
      "needs_background": "light"
     },
     "output_type": "display_data"
    }
   ],
   "source": [
    "plt.plot(history.history['loss'])\n",
    "plt.plot(history.history['val_loss'])\n",
    "plt.legend(['train','validation'])\n",
    "plt.xlabel('epochs')\n",
    "plt.ylabel('loss')\n",
    "plt.title('Loss curve')\n",
    "plt.show()"
   ]
  },
  {
   "cell_type": "code",
   "execution_count": 39,
   "metadata": {},
   "outputs": [
    {
     "name": "stderr",
     "output_type": "stream",
     "text": [
      "/Users/pavneetbajwa/opt/anaconda3/envs/labs/lib/python3.8/site-packages/tensorflow/python/keras/engine/sequential.py:450: UserWarning: `model.predict_classes()` is deprecated and will be removed after 2021-01-01. Please use instead:* `np.argmax(model.predict(x), axis=-1)`,   if your model does multi-class classification   (e.g. if it uses a `softmax` last-layer activation).* `(model.predict(x) > 0.5).astype(\"int32\")`,   if your model does binary classification   (e.g. if it uses a `sigmoid` last-layer activation).\n",
      "  warnings.warn('`model.predict_classes()` is deprecated and '\n"
     ]
    }
   ],
   "source": [
    "preds = model.predict_classes(test_fr.reshape((test_fr.shape[0],test_fr.shape[1])))"
   ]
  },
  {
   "cell_type": "code",
   "execution_count": 40,
   "metadata": {},
   "outputs": [
    {
     "data": {
      "text/plain": [
       "(11953, 8)"
      ]
     },
     "execution_count": 40,
     "metadata": {},
     "output_type": "execute_result"
    }
   ],
   "source": [
    "preds.shape"
   ]
  },
  {
   "cell_type": "code",
   "execution_count": 41,
   "metadata": {},
   "outputs": [
    {
     "data": {
      "text/plain": [
       "11953"
      ]
     },
     "execution_count": 41,
     "metadata": {},
     "output_type": "execute_result"
    }
   ],
   "source": [
    "translated = t_en.sequences_to_texts(preds)\n",
    "len(translated)"
   ]
  },
  {
   "cell_type": "code",
   "execution_count": 42,
   "metadata": {},
   "outputs": [],
   "source": [
    "original = t_fr.sequences_to_texts(test_fr)"
   ]
  },
  {
   "cell_type": "code",
   "execution_count": 43,
   "metadata": {},
   "outputs": [],
   "source": [
    "original_en = t_en.sequences_to_texts(test_en)"
   ]
  },
  {
   "cell_type": "code",
   "execution_count": 44,
   "metadata": {},
   "outputs": [],
   "source": [
    "df_translated = pd.DataFrame([original, original_en, translated]).T"
   ]
  },
  {
   "cell_type": "code",
   "execution_count": 45,
   "metadata": {},
   "outputs": [],
   "source": [
    "df_translated.columns = ['French', 'English', 'Translated']"
   ]
  },
  {
   "cell_type": "code",
   "execution_count": 46,
   "metadata": {},
   "outputs": [
    {
     "data": {
      "text/html": [
       "<div>\n",
       "<style scoped>\n",
       "    .dataframe tbody tr th:only-of-type {\n",
       "        vertical-align: middle;\n",
       "    }\n",
       "\n",
       "    .dataframe tbody tr th {\n",
       "        vertical-align: top;\n",
       "    }\n",
       "\n",
       "    .dataframe thead th {\n",
       "        text-align: right;\n",
       "    }\n",
       "</style>\n",
       "<table border=\"1\" class=\"dataframe\">\n",
       "  <thead>\n",
       "    <tr style=\"text-align: right;\">\n",
       "      <th></th>\n",
       "      <th>French</th>\n",
       "      <th>English</th>\n",
       "      <th>Translated</th>\n",
       "    </tr>\n",
       "  </thead>\n",
       "  <tbody>\n",
       "    <tr>\n",
       "      <th>0</th>\n",
       "      <td>il se mit au lit</td>\n",
       "      <td>he went to bed</td>\n",
       "      <td>he to to bed</td>\n",
       "    </tr>\n",
       "    <tr>\n",
       "      <th>1</th>\n",
       "      <td>faismoi circuler linformation</td>\n",
       "      <td>keep me in the loop</td>\n",
       "      <td>me the chinese</td>\n",
       "    </tr>\n",
       "    <tr>\n",
       "      <th>2</th>\n",
       "      <td>cest un garçon très honnête</td>\n",
       "      <td>the boy is very honest</td>\n",
       "      <td>he is very very man</td>\n",
       "    </tr>\n",
       "    <tr>\n",
       "      <th>3</th>\n",
       "      <td>la porte est verrouillée</td>\n",
       "      <td>the doors locked</td>\n",
       "      <td>the the is locked</td>\n",
       "    </tr>\n",
       "    <tr>\n",
       "      <th>4</th>\n",
       "      <td>cest injuste</td>\n",
       "      <td>thats unfair</td>\n",
       "      <td>not weird</td>\n",
       "    </tr>\n",
       "    <tr>\n",
       "      <th>...</th>\n",
       "      <td>...</td>\n",
       "      <td>...</td>\n",
       "      <td>...</td>\n",
       "    </tr>\n",
       "    <tr>\n",
       "      <th>11948</th>\n",
       "      <td>estu prête à y aller</td>\n",
       "      <td>are you ready to go</td>\n",
       "      <td>are you ready to go</td>\n",
       "    </tr>\n",
       "    <tr>\n",
       "      <th>11949</th>\n",
       "      <td>aije lair occupée selon toi</td>\n",
       "      <td>do i look busy to you</td>\n",
       "      <td>do i look look to you</td>\n",
       "    </tr>\n",
       "    <tr>\n",
       "      <th>11950</th>\n",
       "      <td>tu dois me faire confiance</td>\n",
       "      <td>youve got to trust me</td>\n",
       "      <td>you to trust me</td>\n",
       "    </tr>\n",
       "    <tr>\n",
       "      <th>11951</th>\n",
       "      <td>pratiquezvous le moindre sport</td>\n",
       "      <td>do you play any sports</td>\n",
       "      <td>do you like a band</td>\n",
       "    </tr>\n",
       "    <tr>\n",
       "      <th>11952</th>\n",
       "      <td>jirai en premier</td>\n",
       "      <td>ill go first</td>\n",
       "      <td>ill im first</td>\n",
       "    </tr>\n",
       "  </tbody>\n",
       "</table>\n",
       "<p>11953 rows × 3 columns</p>\n",
       "</div>"
      ],
      "text/plain": [
       "                                French                 English  \\\n",
       "0                     il se mit au lit          he went to bed   \n",
       "1        faismoi circuler linformation     keep me in the loop   \n",
       "2          cest un garçon très honnête  the boy is very honest   \n",
       "3             la porte est verrouillée        the doors locked   \n",
       "4                         cest injuste            thats unfair   \n",
       "...                                ...                     ...   \n",
       "11948            estu prête à y aller      are you ready to go   \n",
       "11949      aije lair occupée selon toi   do i look busy to you   \n",
       "11950       tu dois me faire confiance   youve got to trust me   \n",
       "11951  pratiquezvous le moindre sport   do you play any sports   \n",
       "11952                 jirai en premier            ill go first   \n",
       "\n",
       "                  Translated  \n",
       "0               he to to bed  \n",
       "1             me the chinese  \n",
       "2        he is very very man  \n",
       "3          the the is locked  \n",
       "4                  not weird  \n",
       "...                      ...  \n",
       "11948    are you ready to go  \n",
       "11949  do i look look to you  \n",
       "11950        you to trust me  \n",
       "11951     do you like a band  \n",
       "11952           ill im first  \n",
       "\n",
       "[11953 rows x 3 columns]"
      ]
     },
     "execution_count": 46,
     "metadata": {},
     "output_type": "execute_result"
    }
   ],
   "source": [
    "df_translated"
   ]
  },
  {
   "cell_type": "code",
   "execution_count": 132,
   "metadata": {},
   "outputs": [
    {
     "data": {
      "text/html": [
       "<div>\n",
       "<style scoped>\n",
       "    .dataframe tbody tr th:only-of-type {\n",
       "        vertical-align: middle;\n",
       "    }\n",
       "\n",
       "    .dataframe tbody tr th {\n",
       "        vertical-align: top;\n",
       "    }\n",
       "\n",
       "    .dataframe thead th {\n",
       "        text-align: right;\n",
       "    }\n",
       "</style>\n",
       "<table border=\"1\" class=\"dataframe\">\n",
       "  <thead>\n",
       "    <tr style=\"text-align: right;\">\n",
       "      <th></th>\n",
       "      <th>French</th>\n",
       "      <th>English</th>\n",
       "      <th>Translated</th>\n",
       "    </tr>\n",
       "  </thead>\n",
       "  <tbody>\n",
       "    <tr>\n",
       "      <th>10140</th>\n",
       "      <td>cest mon désir</td>\n",
       "      <td>thats my wish</td>\n",
       "      <td>is my assistant</td>\n",
       "    </tr>\n",
       "    <tr>\n",
       "      <th>2307</th>\n",
       "      <td>je veux quon me choie</td>\n",
       "      <td>i want to be pampered</td>\n",
       "      <td>i want to to stand</td>\n",
       "    </tr>\n",
       "    <tr>\n",
       "      <th>3326</th>\n",
       "      <td>jai assisté au séminaire</td>\n",
       "      <td>i attended the seminar</td>\n",
       "      <td>i rang the sunday</td>\n",
       "    </tr>\n",
       "    <tr>\n",
       "      <th>11718</th>\n",
       "      <td>tom restait immobile</td>\n",
       "      <td>tom wasnt moving</td>\n",
       "      <td>tom remained confused</td>\n",
       "    </tr>\n",
       "    <tr>\n",
       "      <th>5317</th>\n",
       "      <td>tu devrais parler à tom</td>\n",
       "      <td>you should talk to tom</td>\n",
       "      <td>you should to tom</td>\n",
       "    </tr>\n",
       "    <tr>\n",
       "      <th>6811</th>\n",
       "      <td>quattendonsnous</td>\n",
       "      <td>whatre we waiting for</td>\n",
       "      <td>it it</td>\n",
       "    </tr>\n",
       "    <tr>\n",
       "      <th>2717</th>\n",
       "      <td>elle lui a raconté une blague</td>\n",
       "      <td>she told him a joke</td>\n",
       "      <td>she gave him a joke</td>\n",
       "    </tr>\n",
       "    <tr>\n",
       "      <th>5442</th>\n",
       "      <td>je pense que tu as besoin de ceci</td>\n",
       "      <td>i think you need this</td>\n",
       "      <td>i you you you this</td>\n",
       "    </tr>\n",
       "    <tr>\n",
       "      <th>10209</th>\n",
       "      <td>raccrochez</td>\n",
       "      <td>hang up the phone</td>\n",
       "      <td>you it</td>\n",
       "    </tr>\n",
       "    <tr>\n",
       "      <th>1937</th>\n",
       "      <td>il navait pas dargent</td>\n",
       "      <td>he had no money</td>\n",
       "      <td>he has no money</td>\n",
       "    </tr>\n",
       "  </tbody>\n",
       "</table>\n",
       "</div>"
      ],
      "text/plain": [
       "                                  French                 English  \\\n",
       "10140                     cest mon désir           thats my wish   \n",
       "2307               je veux quon me choie   i want to be pampered   \n",
       "3326            jai assisté au séminaire  i attended the seminar   \n",
       "11718               tom restait immobile        tom wasnt moving   \n",
       "5317             tu devrais parler à tom  you should talk to tom   \n",
       "6811                     quattendonsnous   whatre we waiting for   \n",
       "2717       elle lui a raconté une blague     she told him a joke   \n",
       "5442   je pense que tu as besoin de ceci   i think you need this   \n",
       "10209                         raccrochez       hang up the phone   \n",
       "1937               il navait pas dargent         he had no money   \n",
       "\n",
       "                  Translated  \n",
       "10140        is my assistant  \n",
       "2307      i want to to stand  \n",
       "3326       i rang the sunday  \n",
       "11718  tom remained confused  \n",
       "5317       you should to tom  \n",
       "6811                   it it  \n",
       "2717     she gave him a joke  \n",
       "5442      i you you you this  \n",
       "10209                 you it  \n",
       "1937         he has no money  "
      ]
     },
     "execution_count": 132,
     "metadata": {},
     "output_type": "execute_result"
    }
   ],
   "source": [
    "df_translated.sample(10)"
   ]
  },
  {
   "cell_type": "code",
   "execution_count": null,
   "metadata": {},
   "outputs": [],
   "source": []
  },
  {
   "cell_type": "code",
   "execution_count": 102,
   "metadata": {},
   "outputs": [
    {
     "name": "stdout",
     "output_type": "stream",
     "text": [
      "Model: \"sequential\"\n",
      "_________________________________________________________________\n",
      "Layer (type)                 Output Shape              Param #   \n",
      "=================================================================\n",
      "embedding (Embedding)        (None, 8, 512)            8038400   \n",
      "_________________________________________________________________\n",
      "lstm (LSTM)                  (None, 512)               2099200   \n",
      "_________________________________________________________________\n",
      "repeat_vector (RepeatVector) (None, 8, 512)            0         \n",
      "_________________________________________________________________\n",
      "lstm_1 (LSTM)                (None, 8, 512)            2099200   \n",
      "_________________________________________________________________\n",
      "dense (Dense)                (None, 8, 6682)           3427866   \n",
      "=================================================================\n",
      "Total params: 15,664,666\n",
      "Trainable params: 15,664,666\n",
      "Non-trainable params: 0\n",
      "_________________________________________________________________\n"
     ]
    }
   ],
   "source": [
    "model.summary()"
   ]
  },
  {
   "cell_type": "code",
   "execution_count": null,
   "metadata": {},
   "outputs": [],
   "source": []
  }
 ],
 "metadata": {
  "kernelspec": {
   "display_name": "labs",
   "language": "python",
   "name": "labs"
  },
  "language_info": {
   "codemirror_mode": {
    "name": "ipython",
    "version": 3
   },
   "file_extension": ".py",
   "mimetype": "text/x-python",
   "name": "python",
   "nbconvert_exporter": "python",
   "pygments_lexer": "ipython3",
   "version": "3.8.2"
  }
 },
 "nbformat": 4,
 "nbformat_minor": 4
}
